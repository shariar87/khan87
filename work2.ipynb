{
 "cells": [
  {
   "cell_type": "code",
   "execution_count": 3,
   "id": "e731d095-d4fb-4daf-ad20-db4e3aec818b",
   "metadata": {},
   "outputs": [
    {
     "name": "stdout",
     "output_type": "stream",
     "text": [
      "<class 'int'>\n",
      "<class 'int'>\n"
     ]
    }
   ],
   "source": [
    "a = 15\n",
    "b = 12\n",
    "\n",
    "print(type(a))\n",
    "print(type(b))"
   ]
  },
  {
   "cell_type": "code",
   "execution_count": 7,
   "id": "86462843-b5b3-4755-ab9f-1eaa07b11a13",
   "metadata": {},
   "outputs": [
    {
     "name": "stdout",
     "output_type": "stream",
     "text": [
      "Addition: 27\n"
     ]
    }
   ],
   "source": [
    "# Addition\n",
    "addition = a + b\n",
    "print(\"Addition:\", addition)"
   ]
  },
  {
   "cell_type": "code",
   "execution_count": 9,
   "id": "3e8f0fa7-cb05-431c-a34e-a13605b58dd6",
   "metadata": {},
   "outputs": [
    {
     "name": "stdout",
     "output_type": "stream",
     "text": [
      "Subtraction: 3\n"
     ]
    }
   ],
   "source": [
    "# Subtraction\n",
    "subtraction = a - b\n",
    "print(\"Subtraction:\", subtraction)"
   ]
  },
  {
   "cell_type": "code",
   "execution_count": 11,
   "id": "3b44d47f-ae8c-4a8a-b470-a269747a58a0",
   "metadata": {},
   "outputs": [
    {
     "name": "stdout",
     "output_type": "stream",
     "text": [
      "Multiplication: 180\n"
     ]
    }
   ],
   "source": [
    "# Multiplication\n",
    "multiplication = a * b\n",
    "print(\"Multiplication:\", multiplication)"
   ]
  },
  {
   "cell_type": "code",
   "execution_count": 13,
   "id": "64e88556-2651-4fa6-8fb5-fa0327f4a4d4",
   "metadata": {},
   "outputs": [
    {
     "name": "stdout",
     "output_type": "stream",
     "text": [
      "Division: 1.25\n"
     ]
    }
   ],
   "source": [
    "# Division\n",
    "division = a / b\n",
    "print(\"Division:\", division)"
   ]
  },
  {
   "cell_type": "code",
   "execution_count": 15,
   "id": "fe616ba7-b581-45fd-b06b-c5e8688509d9",
   "metadata": {},
   "outputs": [
    {
     "name": "stdout",
     "output_type": "stream",
     "text": [
      "1 <class 'int'>\n",
      "1.0 <class 'float'>\n"
     ]
    }
   ],
   "source": [
    "c = a // b\n",
    "print(c, type(c))\n",
    "\n",
    "# Convert c to a float\n",
    "c = float(c)\n",
    "print(c, type(c))"
   ]
  },
  {
   "cell_type": "code",
   "execution_count": 17,
   "id": "47eff51a-2361-4164-9597-825d192f0975",
   "metadata": {},
   "outputs": [
    {
     "name": "stdout",
     "output_type": "stream",
     "text": [
      "The result of a divided by b is: 1.0\n"
     ]
    }
   ],
   "source": [
    "message = \"The result of a divided by b is:\"\n",
    "\n",
    "result_message = message + \" \" + str(c)\n",
    "\n",
    "print(result_message)\n"
   ]
  },
  {
   "cell_type": "code",
   "execution_count": null,
   "id": "35d0be78-1ac1-4a65-a85c-6bd3691715fe",
   "metadata": {},
   "outputs": [],
   "source": [
    "a = 10\n",
    "b = 5\n",
    "\n",
    "is_greater = a > b\n",
    "print(is_greater)  \n",
    "\n",
    "is_equal = a == b\n",
    "print(is_equal)  \n"
   ]
  }
 ],
 "metadata": {
  "kernelspec": {
   "display_name": "anaconda-panel-2023.05-py310",
   "language": "python",
   "name": "conda-env-anaconda-panel-2023.05-py310-py"
  },
  "language_info": {
   "codemirror_mode": {
    "name": "ipython",
    "version": 3
   },
   "file_extension": ".py",
   "mimetype": "text/x-python",
   "name": "python",
   "nbconvert_exporter": "python",
   "pygments_lexer": "ipython3",
   "version": "3.11.5"
  }
 },
 "nbformat": 4,
 "nbformat_minor": 5
}
